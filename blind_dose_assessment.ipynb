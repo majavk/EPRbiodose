{
  "cells": [
    {
      "cell_type": "markdown",
      "metadata": {
        "id": "view-in-github",
        "colab_type": "text"
      },
      "source": [
        "<a href=\"https://colab.research.google.com/github/majavk/EPRbiodose/blob/main/blind_dose_assessment.ipynb\" target=\"_parent\"><img src=\"https://colab.research.google.com/assets/colab-badge.svg\" alt=\"Open In Colab\"/></a>"
      ]
    },
    {
      "cell_type": "code",
      "execution_count": null,
      "metadata": {
        "id": "mGkl3LJbqnMn"
      },
      "outputs": [],
      "source": [
        "import numpy as np\n",
        "import os\n",
        "import pandas as pd\n",
        "import warnings"
      ]
    },
    {
      "cell_type": "code",
      "source": [
        "warnings.filterwarnings(\"ignore\")"
      ],
      "metadata": {
        "id": "fUVHOjAdrftA"
      },
      "execution_count": null,
      "outputs": []
    },
    {
      "cell_type": "code",
      "execution_count": null,
      "metadata": {
        "id": "jEdFWHGFqnMq"
      },
      "outputs": [],
      "source": [
        "path = 'my_folder'\n",
        "file_type = '.csv'\n",
        "\n",
        "filenames = list()\n",
        "for filename in os.listdir(path=path):\n",
        "    if filename.endswith(file_type):\n",
        "        filenames.append(filename)\n"
      ]
    },
    {
      "cell_type": "code",
      "source": [
        "#one file in a folder is empty\n",
        "MIN_ROW = 85\n",
        "pd.read_csv(f'{path}/FT_No1_300_20052022_002.csv', header=None).iloc[MIN_ROW:, :]\n"
      ],
      "metadata": {
        "id": "HiaVghnpBJSv"
      },
      "execution_count": null,
      "outputs": []
    },
    {
      "cell_type": "markdown",
      "source": [
        "Storing the spectral data in the data frame. The files acquired from the measurements are having 1st 85 rows filled with measurement condtitions."
      ],
      "metadata": {
        "id": "XTILguNBZ_Gx"
      }
    },
    {
      "cell_type": "code",
      "execution_count": null,
      "metadata": {
        "id": "ZF_xAmroqnMs"
      },
      "outputs": [],
      "source": [
        "df_final = pd.DataFrame()\n",
        "\n",
        "MIN_ROW = 85\n",
        "for i, item in enumerate(filenames):\n",
        "    variable_filename = '_' + item\n",
        "    variable_name_to_change = item\n",
        "    variable_name_to_change = pd.read_csv(f'{path}/' + item, header=None).iloc[MIN_ROW:, :]\n",
        "    field_variable_name_to_change = list()\n",
        "    ampl_variable_name_to_change = list()\n",
        "\n",
        "    for  row in variable_name_to_change.itertuples():\n",
        "      field_variable_name_to_change.append(float(row[1].split(';')[0]))\n",
        "      ampl_variable_name_to_change.append(float(row[1].split(';')[1]))\n",
        "      \n",
        "    row_field_variable ='new_field' + str(variable_filename)\n",
        "    row_ampl_variable = 'new_ampl' + str(variable_filename)\n",
        "    try:\n",
        "      df_final[row_field_variable] = field_variable_name_to_change\n",
        "      df_final[row_ampl_variable] = ampl_variable_name_to_change\n",
        "    except ValueError:\n",
        "      print(f'The row {i} is having a Value Error')\n"
      ]
    },
    {
      "cell_type": "markdown",
      "source": [
        "The data of a spectra are separated in the first part where the standard, left, 3rd satelite of Mn2+ in MgO lies, for the field calibration data are and the second part where the data for the maximum of the EPR spectra of the sample response is."
      ],
      "metadata": {
        "id": "EcZlqdH6a6xp"
      }
    },
    {
      "cell_type": "code",
      "source": [
        "df_Mn_left = df_final[(df_final.iloc[:,0]> 330.) & (df_final.iloc[:, 0] < 333.)]\n",
        "df_geff = df_final[(df_final.iloc[:,0]> 333.5) & (df_final.iloc[:, 0] < 338.)]"
      ],
      "metadata": {
        "id": "UJJQSZOhsZi1"
      },
      "execution_count": null,
      "outputs": []
    },
    {
      "cell_type": "markdown",
      "source": [
        "Separating field and amplitude spectral data for standard and sample signal."
      ],
      "metadata": {
        "id": "pTyoDBH8d3cS"
      }
    },
    {
      "cell_type": "code",
      "source": [
        "data = df_Mn_left.to_dict()\n",
        "mn_left = pd.DataFrame()\n",
        "\n",
        "for key, value in data.items():\n",
        "    if 'ampl' in key:)\n",
        "        B_MN_left_variable = 'B_Mn_left_'+key\n",
        "        B_MN_left_column_variable = 'B_Mn_left_column_'+key\n",
        "        values_Mn = 'values_Mn_'+ key\n",
        "        values_Mn = list()\n",
        "        for x,y in value.items():\n",
        "            values_Mn.append(y)\n",
        "        mn_left[B_MN_left_column_variable] = values_Mn\n",
        "        "
      ],
      "metadata": {
        "id": "Mk0qNvy3saYe"
      },
      "execution_count": null,
      "outputs": []
    },
    {
      "cell_type": "code",
      "source": [
        "data_1 = df_geff.to_dict()\n",
        "df_geffective = pd.DataFrame()\n",
        "\n",
        "for key, value in data_1.items():\n",
        "    if 'ampl'in key:\n",
        "        B_g_eff_variable = 'B_g_eff_'+key\n",
        "        B_g_eff_column_variable = 'B_g_eff_column_'+key\n",
        "        values = 'values_'+ key\n",
        "        values = list()\n",
        "        for x,y in value.items():\n",
        "            values.append(y)\n",
        "        df_geffective[B_g_eff_column_variable] = values\n"
      ],
      "metadata": {
        "id": "tdtmCzQnsaen"
      },
      "execution_count": null,
      "outputs": []
    },
    {
      "cell_type": "markdown",
      "source": [
        "Evaluation of the g-values from the EPR spectral response (position of magnetic field where the absorption happened)."
      ],
      "metadata": {
        "id": "712qWGyBermI"
      }
    },
    {
      "cell_type": "code",
      "source": [
        "def g_values(B_Mn_left, B_g_eff):\n",
        "    g_Mn_left = 2.03339\n",
        "    g_eff = g_Mn_left * (B_Mn_left/B_g_eff)\n",
        "    return g_eff\n"
      ],
      "metadata": {
        "id": "uz5BuSSVsaiQ"
      },
      "execution_count": null,
      "outputs": []
    },
    {
      "cell_type": "markdown",
      "source": [
        "Evaluation of magnetic field of maximum of EPR spectra for sample and the standard. "
      ],
      "metadata": {
        "id": "twd4ynixfEnd"
      }
    },
    {
      "cell_type": "code",
      "source": [
        "max_names = list()\n",
        "max_values = list()\n",
        "max_index = list()\n",
        "for item in mn_left.columns.values.tolist():\n",
        "    max_value = mn_left[item].sort_values(ascending=False)[:1]\n",
        "    max_names.append(max_value.name)\n",
        "    max_values.append(max_value.values[0])\n",
        "    max_index.append(list(max_value.index)[0])\n",
        "    \n",
        "zipped_Mn = zip(max_names, max_values, max_index)\n",
        "ampl_data_Mn = list(zipped_Mn)\n"
      ],
      "metadata": {
        "id": "8MdSm3r1samt"
      },
      "execution_count": null,
      "outputs": []
    },
    {
      "cell_type": "code",
      "source": [
        "max_names_geff = list()\n",
        "max_values_geff = list()\n",
        "max_index_geff = list()\n",
        "\n",
        "for item in df_geffective.columns.values.tolist():\n",
        "    max_value = df_geffective[item].sort_values(ascending=False)[:1]\n",
        "    max_names_geff.append(max_value.name)\n",
        "    max_values_geff.append(max_value.values[0])\n",
        "    max_index_geff.append(list(max_value.index)[0])\n",
        "    \n",
        "zipped_g_eff = zip(max_names_geff, max_values_geff, max_index_geff)\n",
        "ampl_data_g_eff = list(zipped_g_eff)\n"
      ],
      "metadata": {
        "id": "14k164XQsapk"
      },
      "execution_count": null,
      "outputs": []
    },
    {
      "cell_type": "code",
      "source": [
        "zipped_g_eff_Mn = zip(max_names, max_values, max_index, max_names_geff, max_values_geff, max_index_geff)\n",
        "zipped_g_eff_Mn = list(zipped_g_eff_Mn)"
      ],
      "metadata": {
        "id": "1KA1d82tsasP"
      },
      "execution_count": null,
      "outputs": []
    },
    {
      "cell_type": "markdown",
      "source": [
        "Evaluation of the g_eff values and storing in the data frame."
      ],
      "metadata": {
        "id": "mhVWfmZ8gAUn"
      }
    },
    {
      "cell_type": "code",
      "source": [
        "df = pd.DataFrame()\n",
        "\n",
        "g_eff = list()\n",
        "dose = list()\n",
        "b_g_eff = list()\n",
        "b_Mn_left = list()\n",
        "for  name, value, index, name_geff, value_geff, index_geff in zipped_g_eff_Mn:\n",
        "    replaced_name_geff = name_geff[15:].replace('ampl', 'field')\n",
        "    replaced_name = name[17:].replace('ampl', 'field')\n",
        "    B_g_eff = df_geff[replaced_name_geff].iloc[index_geff]\n",
        "    B_Mn_left = df_Mn_left[replaced_name].iloc[index]\n",
        "    variable_name = 'g_eff_' + replaced_name\n",
        "    dose.append(variable_name)\n",
        "    g_eff.append(g_values(B_Mn_left, B_g_eff))\n",
        "    b_g_eff.append(B_g_eff)\n",
        "    b_Mn_left.append(B_Mn_left)\n",
        "\n",
        "df['g_eff'] = g_eff\n",
        "df['meta_data'] = dose\n",
        "df['B_g_eff'] = b_g_eff\n",
        "df['B_Mn_left'] = b_Mn_left\n"
      ],
      "metadata": {
        "id": "qKh__Sfosaxs"
      },
      "execution_count": null,
      "outputs": []
    },
    {
      "cell_type": "markdown",
      "source": [
        "Extracting the information on the dose, orientation and the sample from the column names."
      ],
      "metadata": {
        "id": "ER_gBiSHgHCE"
      }
    },
    {
      "cell_type": "code",
      "source": [
        "orientation = list()\n",
        "sample = list()\n",
        "for item in df['meta_data']:\n",
        "  item = item.split('No')\n",
        "  item = item[1][0:6]\n",
        "  try:\n",
        "    if item.endswith('_'):\n",
        "      orientation.append(float(item[0:5].split('_')[1]))\n",
        "      sample.append(float(item[0:5].split('_')[0]))\n",
        "    else:\n",
        "      orientation.append(float(item.split('_')[1]))\n",
        "      sample.append(float(item.split('_')[0]))\n",
        "  except IndexError:\n",
        "    continue\n",
        "\n",
        "df['No_sample'] = sample\n",
        "df['orientation_sample'] = orientation\n",
        "df_temp = df[['No_sample', 'orientation_sample', 'g_eff']]\n",
        "df_temp = df_temp.sort_values('No_sample') \n"
      ],
      "metadata": {
        "id": "ZJRFTQWP0MHR"
      },
      "execution_count": null,
      "outputs": []
    },
    {
      "cell_type": "code",
      "source": [
        "df_temp = df_temp.groupby('No_sample').mean()\n"
      ],
      "metadata": {
        "id": "bZpq7nhG3lT2"
      },
      "execution_count": null,
      "outputs": []
    },
    {
      "cell_type": "markdown",
      "source": [
        "By using previously established calibration curve, the dose evaluation from the g_eff values was performed."
      ],
      "metadata": {
        "id": "5oHyqROwghIp"
      }
    },
    {
      "cell_type": "code",
      "source": [
        "def reverse_cal(g_eff, y_0, a, b):\n",
        "  return -1/b * np.log((a-g_eff+y_0)/a) "
      ],
      "metadata": {
        "id": "LMwEk-wTY7Gp"
      },
      "execution_count": null,
      "outputs": []
    },
    {
      "cell_type": "code",
      "source": [
        "df_temp['dose'] = df_temp['g_eff'].apply(lambda x: reverse_cal(x, 2.0082, 0.0032, 0.524))\n",
        "df = df_temp[['g_eff', 'dose']]"
      ],
      "metadata": {
        "id": "p7793KS3qHa5"
      },
      "execution_count": null,
      "outputs": []
    }
  ],
  "metadata": {
    "kernelspec": {
      "display_name": "Python 3",
      "language": "python",
      "name": "python3"
    },
    "language_info": {
      "codemirror_mode": {
        "name": "ipython",
        "version": 3
      },
      "file_extension": ".py",
      "mimetype": "text/x-python",
      "name": "python",
      "nbconvert_exporter": "python",
      "pygments_lexer": "ipython3",
      "version": "3.8.3"
    },
    "colab": {
      "name": "blind_dose_assessment.ipynb",
      "provenance": [],
      "collapsed_sections": [],
      "include_colab_link": true
    }
  },
  "nbformat": 4,
  "nbformat_minor": 0
}